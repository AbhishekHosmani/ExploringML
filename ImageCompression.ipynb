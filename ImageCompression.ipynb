{
 "cells": [
  {
   "cell_type": "code",
   "execution_count": 8,
   "metadata": {},
   "outputs": [
    {
     "name": "stdout",
     "output_type": "stream",
     "text": [
      "[[[101  90  58]\n",
      "  [103  92  62]\n",
      "  [110  95  66]\n",
      "  ...\n",
      "  [ 96  96  70]\n",
      "  [104 103  73]\n",
      "  [ 92  91  60]]\n",
      "\n",
      " [[102  89  57]\n",
      "  [108  94  65]\n",
      "  [106  92  65]\n",
      "  ...\n",
      "  [ 96  96  68]\n",
      "  [100 101  70]\n",
      "  [ 89  90  58]]\n",
      "\n",
      " [[106  95  65]\n",
      "  [107  93  66]\n",
      "  [106  94  68]\n",
      "  ...\n",
      "  [ 96  96  68]\n",
      "  [ 99 100  69]\n",
      "  [ 95  96  65]]]\n"
     ]
    }
   ],
   "source": [
    "import matplotlib.pyplot as plt\n",
    "import numpy as np\n",
    "from PIL import Image\n",
    "import random \n",
    "from matplotlib import pyplot as io \n",
    "\n",
    "### Setting seed ###\n",
    "random.seed(100)\n",
    "np.random.seed(100)\n",
    "\n",
    "# Image to array \n",
    "\n",
    "data_loc = \"/Users/abhishekhosmani/CompSci/College/ML_Anjum/data/assignment5/\"\n",
    "\n",
    "img1 = io.imread(data_loc+\"Koala.jpg\")  #image is saved as rows * columns * 3 array  \n",
    "print(img1[:3,:,:])\n",
    "\n",
    "rows, cols, depth = img1.shape\n"
   ]
  },
  {
   "cell_type": "code",
   "execution_count": 9,
   "metadata": {},
   "outputs": [
    {
     "name": "stdout",
     "output_type": "stream",
     "text": [
      "COMPLETE\n"
     ]
    }
   ],
   "source": [
    "from matplotlib import pyplot as io\n",
    "import numpy as np\n",
    "from PIL import Image\n",
    "from sklearn.cluster import KMeans\n",
    "\n",
    "# Image to array \n",
    "\n",
    "data_loc = \"/Users/abhishekhosmani/CompSci/College/ML_Anjum/data/assignment5/\"\n",
    "\n",
    "src_img = io.imread(data_loc+\"Koala.jpg\")  #image is saved as rows * columns * 3 array  \n",
    "# print(src_img)\n",
    "\n",
    "rows, cols, depth = src_img.shape\n",
    "\n",
    "reshaped_img = src_img.reshape(rows*cols,depth)\n",
    "\n",
    "kmeans = KMeans(n_clusters=5, max_iter=2)\n",
    "kmeans.fit(reshaped_img)\n",
    "\n",
    "output_img = kmeans.labels_.reshape(rows, cols)\n",
    "io.imsave('compessed_sk_5.jpg', output_img)\n",
    "print(\"COMPLETE\")"
   ]
  },
  {
   "cell_type": "code",
   "execution_count": 23,
   "metadata": {},
   "outputs": [],
   "source": [
    "class KMeansCompression():\n",
    "    def __init__(self, n_clusters=10):\n",
    "        pasd\n",
    "    \n",
    "    def get_initial_centers(X, k):\n",
    "        c = random.sample(list(X),K)\n",
    "        return c\n",
    "    \n",
    "    def get_eucledian_distance(A, B):\n",
    "        distance = np.sum()\n",
    "    "
   ]
  },
  {
   "cell_type": "code",
   "execution_count": 71,
   "metadata": {},
   "outputs": [
    {
     "name": "stdout",
     "output_type": "stream",
     "text": [
      "[[3 2 8]\n",
      " [1 5 3]]\n"
     ]
    },
    {
     "ename": "IndexError",
     "evalue": "index 3 is out of bounds for axis 0 with size 2",
     "output_type": "error",
     "traceback": [
      "\u001b[0;31m---------------------------------------------------------------------------\u001b[0m",
      "\u001b[0;31mIndexError\u001b[0m                                Traceback (most recent call last)",
      "\u001b[0;32m<ipython-input-71-e0f4f2bcb458>\u001b[0m in \u001b[0;36m<module>\u001b[0;34m\u001b[0m\n\u001b[1;32m     13\u001b[0m \u001b[0;34m\u001b[0m\u001b[0m\n\u001b[1;32m     14\u001b[0m     \u001b[0;32mfor\u001b[0m \u001b[0mdata_point\u001b[0m \u001b[0;32min\u001b[0m \u001b[0mdata\u001b[0m\u001b[0;34m:\u001b[0m\u001b[0;34m\u001b[0m\u001b[0;34m\u001b[0m\u001b[0m\n\u001b[0;32m---> 15\u001b[0;31m         \u001b[0mdistances\u001b[0m \u001b[0;34m=\u001b[0m \u001b[0;34m[\u001b[0m\u001b[0mnp\u001b[0m\u001b[0;34m.\u001b[0m\u001b[0mlinalg\u001b[0m\u001b[0;34m.\u001b[0m\u001b[0mnorm\u001b[0m\u001b[0;34m(\u001b[0m\u001b[0mdata_point\u001b[0m\u001b[0;34m-\u001b[0m\u001b[0mcenters\u001b[0m\u001b[0;34m[\u001b[0m\u001b[0mcentroid\u001b[0m\u001b[0;34m]\u001b[0m\u001b[0;34m)\u001b[0m \u001b[0;32mfor\u001b[0m \u001b[0mcentroid\u001b[0m \u001b[0;32min\u001b[0m \u001b[0mcenters\u001b[0m\u001b[0;34m]\u001b[0m\u001b[0;34m\u001b[0m\u001b[0;34m\u001b[0m\u001b[0m\n\u001b[0m\u001b[1;32m     16\u001b[0m         \u001b[0mprint\u001b[0m\u001b[0;34m(\u001b[0m\u001b[0mdistances\u001b[0m\u001b[0;34m)\u001b[0m\u001b[0;34m\u001b[0m\u001b[0;34m\u001b[0m\u001b[0m\n",
      "\u001b[0;32m<ipython-input-71-e0f4f2bcb458>\u001b[0m in \u001b[0;36m<listcomp>\u001b[0;34m(.0)\u001b[0m\n\u001b[1;32m     13\u001b[0m \u001b[0;34m\u001b[0m\u001b[0m\n\u001b[1;32m     14\u001b[0m     \u001b[0;32mfor\u001b[0m \u001b[0mdata_point\u001b[0m \u001b[0;32min\u001b[0m \u001b[0mdata\u001b[0m\u001b[0;34m:\u001b[0m\u001b[0;34m\u001b[0m\u001b[0;34m\u001b[0m\u001b[0m\n\u001b[0;32m---> 15\u001b[0;31m         \u001b[0mdistances\u001b[0m \u001b[0;34m=\u001b[0m \u001b[0;34m[\u001b[0m\u001b[0mnp\u001b[0m\u001b[0;34m.\u001b[0m\u001b[0mlinalg\u001b[0m\u001b[0;34m.\u001b[0m\u001b[0mnorm\u001b[0m\u001b[0;34m(\u001b[0m\u001b[0mdata_point\u001b[0m\u001b[0;34m-\u001b[0m\u001b[0mcenters\u001b[0m\u001b[0;34m[\u001b[0m\u001b[0mcentroid\u001b[0m\u001b[0;34m]\u001b[0m\u001b[0;34m)\u001b[0m \u001b[0;32mfor\u001b[0m \u001b[0mcentroid\u001b[0m \u001b[0;32min\u001b[0m \u001b[0mcenters\u001b[0m\u001b[0;34m]\u001b[0m\u001b[0;34m\u001b[0m\u001b[0;34m\u001b[0m\u001b[0m\n\u001b[0m\u001b[1;32m     16\u001b[0m         \u001b[0mprint\u001b[0m\u001b[0;34m(\u001b[0m\u001b[0mdistances\u001b[0m\u001b[0;34m)\u001b[0m\u001b[0;34m\u001b[0m\u001b[0;34m\u001b[0m\u001b[0m\n",
      "\u001b[0;31mIndexError\u001b[0m: index 3 is out of bounds for axis 0 with size 2"
     ]
    }
   ],
   "source": [
    "data = np.array([[1,5,3], [2,1,4], [3,2,8], [1,1,1]])\n",
    "result = []\n",
    "n = len(a)\n",
    "\n",
    "np.random.shuffle(data)\n",
    "centers = data[:2]\n",
    "print(centers)\n",
    "for i in range(100):\n",
    "    groups = {}\n",
    "    \n",
    "    for i in range(2):\n",
    "        groups[i] = []\n",
    "        \n",
    "    for data_point in data:\n",
    "        distances = [np.linalg.norm(data_point-centers[centroid]) for centroid in centers]\n",
    "        print(distances)"
   ]
  },
  {
   "cell_type": "code",
   "execution_count": 79,
   "metadata": {},
   "outputs": [
    {
     "name": "stdout",
     "output_type": "stream",
     "text": [
      "Iteration: 1\n"
     ]
    },
    {
     "ename": "NameError",
     "evalue": "name 'new_cluster_prototype' is not defined",
     "output_type": "error",
     "traceback": [
      "\u001b[0;31m---------------------------------------------------------------------------\u001b[0m",
      "\u001b[0;31mNameError\u001b[0m                                 Traceback (most recent call last)",
      "\u001b[0;32m<ipython-input-79-5f37b172d7c6>\u001b[0m in \u001b[0;36m<module>\u001b[0;34m\u001b[0m\n\u001b[1;32m     36\u001b[0m \u001b[0;34m\u001b[0m\u001b[0m\n\u001b[1;32m     37\u001b[0m     \u001b[0;32mreturn\u001b[0m \u001b[0;34m(\u001b[0m\u001b[0mlabels\u001b[0m\u001b[0;34m,\u001b[0m \u001b[0minit_centers\u001b[0m\u001b[0;34m)\u001b[0m\u001b[0;34m\u001b[0m\u001b[0;34m\u001b[0m\u001b[0m\n\u001b[0;32m---> 38\u001b[0;31m \u001b[0mk_means_clustering\u001b[0m\u001b[0;34m(\u001b[0m\u001b[0mdata\u001b[0m\u001b[0;34m,\u001b[0m\u001b[0;36m2\u001b[0m\u001b[0;34m)\u001b[0m\u001b[0;34m\u001b[0m\u001b[0;34m\u001b[0m\u001b[0m\n\u001b[0m",
      "\u001b[0;32m<ipython-input-79-5f37b172d7c6>\u001b[0m in \u001b[0;36mk_means_clustering\u001b[0;34m(data, k, n_iter)\u001b[0m\n\u001b[1;32m     30\u001b[0m             \u001b[0;32mif\u001b[0m \u001b[0;34m(\u001b[0m\u001b[0mpoints_by_label\u001b[0m\u001b[0;34m[\u001b[0m\u001b[0mk_i\u001b[0m\u001b[0;34m]\u001b[0m \u001b[0;32mis\u001b[0m \u001b[0;32mnot\u001b[0m \u001b[0;32mNone\u001b[0m\u001b[0;34m)\u001b[0m\u001b[0;34m:\u001b[0m\u001b[0;34m\u001b[0m\u001b[0;34m\u001b[0m\u001b[0m\n\u001b[1;32m     31\u001b[0m                 \u001b[0minit_centers\u001b[0m \u001b[0;34m=\u001b[0m \u001b[0mnp\u001b[0m\u001b[0;34m.\u001b[0m\u001b[0masarray\u001b[0m\u001b[0;34m(\u001b[0m\u001b[0mpoints_by_label\u001b[0m\u001b[0;34m[\u001b[0m\u001b[0mk_i\u001b[0m\u001b[0;34m]\u001b[0m\u001b[0;34m)\u001b[0m\u001b[0;34m.\u001b[0m\u001b[0msum\u001b[0m\u001b[0;34m(\u001b[0m\u001b[0maxis\u001b[0m\u001b[0;34m=\u001b[0m\u001b[0;36m0\u001b[0m\u001b[0;34m)\u001b[0m \u001b[0;34m/\u001b[0m \u001b[0mlen\u001b[0m\u001b[0;34m(\u001b[0m\u001b[0mpoints_by_label\u001b[0m\u001b[0;34m[\u001b[0m\u001b[0mk_i\u001b[0m\u001b[0;34m]\u001b[0m\u001b[0;34m)\u001b[0m\u001b[0;34m\u001b[0m\u001b[0;34m\u001b[0m\u001b[0m\n\u001b[0;32m---> 32\u001b[0;31m                 \u001b[0minit_centers\u001b[0m\u001b[0;34m[\u001b[0m\u001b[0mk_i\u001b[0m\u001b[0;34m]\u001b[0m \u001b[0;34m=\u001b[0m \u001b[0mnew_cluster_prototype\u001b[0m\u001b[0;34m\u001b[0m\u001b[0;34m\u001b[0m\u001b[0m\n\u001b[0m\u001b[1;32m     33\u001b[0m \u001b[0;34m\u001b[0m\u001b[0m\n\u001b[1;32m     34\u001b[0m         \u001b[0;31m# Find Current Distortion Distances\u001b[0m\u001b[0;34m\u001b[0m\u001b[0;34m\u001b[0m\u001b[0;34m\u001b[0m\u001b[0m\n",
      "\u001b[0;31mNameError\u001b[0m: name 'new_cluster_prototype' is not defined"
     ]
    }
   ],
   "source": [
    "from matplotlib import pyplot as io\n",
    "import numpy as np\n",
    "from PIL import Image\n",
    "from sklearn.cluster import KMeans\n",
    "\n",
    "# Image to array \n",
    "\n",
    "data_loc = \"/Users/abhishekhosmani/CompSci/College/ML_Anjum/data/assignment5/\"\n",
    "\n",
    "src_img = io.imread(data_loc+\"Koala.jpg\")  #image is saved as rows * columns * 3 array  \n",
    "# print(src_img)\n",
    "\n",
    "rows, cols, depth = src_img.shape\n",
    "\n",
    "reshaped_img = src_img.reshape(rows*cols,depth)\n",
    "\n",
    "\n",
    "def k_means_clustering(data, k, n_iter=300):\n",
    "    # Create corresponding label array (Initialize with Label: -1)\n",
    "    labels = np.full((data.shape[0],), -1)\n",
    "\n",
    "    # Choose initial clusters by shuffling and choosing top k\n",
    "    # np.random.shuffle(data)\n",
    "    init_centers = data[:k]\n",
    "\n",
    "    # Iteration Loop\n",
    "    for i in range(n_iter):\n",
    "            \n",
    "        print('Iteration: ' + str(i + 1))\n",
    "        groups = {}\n",
    "        \n",
    "        for i in range(k):\n",
    "            groups[i] = []\n",
    "\n",
    "        # Label them via closest point\n",
    "        for color_index, rgb in enumerate(data):\n",
    "            rgb_matrix = np.repeat(rgb, k).reshape(3, k).T\n",
    "            \n",
    "            # Find the Closest Label via L2 Norm\n",
    "            closest_center = np.argmin(np.linalg.norm(rgb_matrix-init_centers, axis=1))\n",
    "            print(closest_center)\n",
    "            labels[color_index] = closest_center\n",
    "\n",
    "            if (points_by_label[closest_center] is None):\n",
    "                points_by_label[closest_center] = []\n",
    "\n",
    "            points_by_label[closest_center].append(rgb)\n",
    "\n",
    "        # Optimize Cluster Prototypes (Center of Mass of Cluster)\n",
    "        for k_i in range(k):\n",
    "            if (points_by_label[k_i] is not None):\n",
    "                init_centers = np.asarray(points_by_label[k_i]).sum(axis=0) / len(points_by_label[k_i])\n",
    "                init_centers[k_i] = new_cluster_prototype\n",
    "\n",
    "        # Find Current Distortion Distances\n",
    "        print_distortion_distance(init_centers, points_by_label, k)\n",
    "\n",
    "    return (labels, init_centers)\n",
    "k_means_clustering(data,2)"
   ]
  },
  {
   "cell_type": "code",
   "execution_count": null,
   "metadata": {},
   "outputs": [],
   "source": [
    "for i in range(self.k):\n",
    "    self.centroids[i] = np.array(random.sample(set(data),k))\n",
    "\n",
    "for i in range(self.max_iter):\n",
    "    self.groups = {}\n",
    "\n",
    "    for i in range(self.k):\n",
    "        self.groups[i] = []\n",
    "\n",
    "    for data_point in data:\n",
    "        distances = [np.linalg.norm(data_point-self.centroids[centroid]) for centroid in self.centroids]\n",
    "        classification = distances.index(min(distances))\n",
    "        self.classifications[classification].append(featureset)"
   ]
  }
 ],
 "metadata": {
  "kernelspec": {
   "display_name": "Python 3",
   "language": "python",
   "name": "python3"
  },
  "language_info": {
   "codemirror_mode": {
    "name": "ipython",
    "version": 3
   },
   "file_extension": ".py",
   "mimetype": "text/x-python",
   "name": "python",
   "nbconvert_exporter": "python",
   "pygments_lexer": "ipython3",
   "version": "3.7.6"
  }
 },
 "nbformat": 4,
 "nbformat_minor": 2
}
